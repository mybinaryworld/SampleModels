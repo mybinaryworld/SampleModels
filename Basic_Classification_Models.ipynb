{
 "cells": [
  {
   "cell_type": "markdown",
   "metadata": {},
   "source": [
    "## Logistic Regression"
   ]
  },
  {
   "cell_type": "code",
   "execution_count": 3,
   "metadata": {},
   "outputs": [
    {
     "name": "stderr",
     "output_type": "stream",
     "text": [
      "\u001b[32m[I 2022-08-23 22:21:49,438]\u001b[0m A new study created in memory with name: no-name-348db158-881c-421f-8f13-7cbbf6b72b05\u001b[0m\n",
      "\u001b[32m[I 2022-08-23 22:21:54,444]\u001b[0m Trial 0 finished with value: 0.8739917811656943 and parameters: {'l1_ratio': 0.9555752123403306, 'C': 4.153980029914206}. Best is trial 0 with value: 0.8739917811656943.\u001b[0m\n",
      "\u001b[32m[I 2022-08-23 22:21:54,456]\u001b[0m Trial 1 finished with value: 0.8921744584814985 and parameters: {'l1_ratio': 0.7248176076686714, 'C': 6.331552600914713}. Best is trial 1 with value: 0.8921744584814985.\u001b[0m\n",
      "\u001b[32m[I 2022-08-23 22:21:54,468]\u001b[0m Trial 2 finished with value: 0.9009908836022713 and parameters: {'l1_ratio': 0.5976945688508821, 'C': 7.985662327817705}. Best is trial 2 with value: 0.9009908836022713.\u001b[0m\n",
      "\u001b[32m[I 2022-08-23 22:21:54,482]\u001b[0m Trial 3 finished with value: 0.9009908836022713 and parameters: {'l1_ratio': 0.27107593383239775, 'C': 11.394344435712025}. Best is trial 2 with value: 0.9009908836022713.\u001b[0m\n",
      "\u001b[32m[I 2022-08-23 22:21:54,498]\u001b[0m Trial 4 finished with value: 0.9009908836022713 and parameters: {'l1_ratio': 0.7238965794211153, 'C': 7.511895339898796}. Best is trial 2 with value: 0.9009908836022713.\u001b[0m\n",
      "\u001b[32m[I 2022-08-23 22:21:54,513]\u001b[0m Trial 5 finished with value: 0.9103199801947952 and parameters: {'l1_ratio': 0.24297766139307075, 'C': 14.306263607615364}. Best is trial 5 with value: 0.9103199801947952.\u001b[0m\n",
      "\u001b[32m[I 2022-08-23 22:21:54,527]\u001b[0m Trial 6 finished with value: 0.9103199801947952 and parameters: {'l1_ratio': 0.41464548074208196, 'C': 12.05204200072004}. Best is trial 5 with value: 0.9103199801947952.\u001b[0m\n",
      "\u001b[32m[I 2022-08-23 22:21:54,543]\u001b[0m Trial 7 finished with value: 0.9009908836022713 and parameters: {'l1_ratio': 0.4092043718094206, 'C': 10.176235313086135}. Best is trial 5 with value: 0.9103199801947952.\u001b[0m\n",
      "\u001b[32m[I 2022-08-23 22:21:54,557]\u001b[0m Trial 8 finished with value: 0.8833295022681213 and parameters: {'l1_ratio': 0.183339759233817, 'C': 4.349155995669097}. Best is trial 5 with value: 0.9103199801947952.\u001b[0m\n",
      "\u001b[32m[I 2022-08-23 22:21:54,573]\u001b[0m Trial 9 finished with value: 0.9103199801947952 and parameters: {'l1_ratio': 0.17600010483050027, 'C': 16.632962630096195}. Best is trial 5 with value: 0.9103199801947952.\u001b[0m\n"
     ]
    },
    {
     "name": "stdout",
     "output_type": "stream",
     "text": [
      "Best score: 0.9103199801947952\n",
      "\n",
      "Optimized parameters: {'l1_ratio': 0.24297766139307075, 'C': 14.306263607615364}\n",
      "\n",
      "[[-2.51836335  4.86982438 -5.86527612 -5.85652154]\n",
      " [ 0.42044507 -5.81324264  2.71357122 -2.91738535]\n",
      " [-0.00941598 -2.43365915  6.19150246  9.11896615]]\n"
     ]
    }
   ],
   "source": [
    "import matplotlib.pyplot as plt\n",
    "import numpy as np\n",
    "from sklearn.linear_model import LogisticRegression\n",
    "from sklearn.datasets import load_iris\n",
    "from sklearn.metrics import classification_report, confusion_matrix\n",
    "\n",
    "\n",
    "from sklearn.model_selection import KFold, cross_val_score, train_test_split\n",
    "import optuna\n",
    "import warnings\n",
    "warnings.filterwarnings('ignore')\n",
    "\n",
    "# prepare the data\n",
    "X, y = load_iris(return_X_y=True)\n",
    "\n",
    "X_train, X_test, y_train, y_test = train_test_split(X, y, test_size=0.25, random_state=12)\n",
    "RANDOM_SEED = 42\n",
    "\n",
    "#normalize train and then test data\n",
    "from sklearn.preprocessing import MinMaxScaler\n",
    "scaler = MinMaxScaler()\n",
    "X_train = scaler.fit_transform(X_train)\n",
    "X_test = scaler.fit(X_test)\n",
    "\n",
    "def tune(objective):\n",
    "    study = optuna.create_study(direction=\"maximize\")\n",
    "    study.optimize(objective, n_trials=10)\n",
    "\n",
    "    params = study.best_params\n",
    "    best_score = study.best_value\n",
    "    print(f\"Best score: {best_score}\\n\")\n",
    "    print(f\"Optimized parameters: {params}\\n\")\n",
    "    return params\n",
    "\n",
    "\n",
    "\n",
    "def logistic_regression_objective(trial):\n",
    "    \n",
    "    # 5-fold CV\n",
    "    kfolds = KFold(n_splits=5, shuffle=True, random_state=RANDOM_SEED)# Define the helper function so that it can be reused\n",
    "\n",
    "    _l1_ratio = trial.suggest_float(\"l1_ratio\", 0.1, 1)\n",
    "    _c = trial.suggest_float(\"C\", 0.1, 20)\n",
    "    logistic = LogisticRegression(l1_ratio=_l1_ratio, C = _c, random_state=RANDOM_SEED)\n",
    "\n",
    "    scores = cross_val_score(\n",
    "        logistic, X_train, y_train, cv=kfolds,\n",
    "        scoring=\"f1_weighted\"\n",
    "    )\n",
    "    return scores.mean()\n",
    "\n",
    "\n",
    "logistic_regression_params = tune(logistic_regression_objective)\n",
    "lr = LogisticRegression(**logistic_regression_params, random_state=RANDOM_SEED)\n",
    "\n",
    "lr.fit(X_train, y_train)\n",
    "print(lr.coef_)"
   ]
  },
  {
   "cell_type": "code",
   "execution_count": 32,
   "metadata": {},
   "outputs": [
    {
     "data": {
      "text/plain": [
       "['sepal length (cm)',\n",
       " 'sepal width (cm)',\n",
       " 'petal length (cm)',\n",
       " 'petal width (cm)']"
      ]
     },
     "execution_count": 32,
     "metadata": {},
     "output_type": "execute_result"
    }
   ],
   "source": [
    "data = load_iris()\n",
    "data.feature_names"
   ]
  },
  {
   "cell_type": "code",
   "execution_count": 22,
   "metadata": {},
   "outputs": [
    {
     "data": {
      "text/plain": [
       "{'data': array([[5.1, 3.5, 1.4, 0.2],\n",
       "        [4.9, 3. , 1.4, 0.2],\n",
       "        [4.7, 3.2, 1.3, 0.2],\n",
       "        [4.6, 3.1, 1.5, 0.2],\n",
       "        [5. , 3.6, 1.4, 0.2],\n",
       "        [5.4, 3.9, 1.7, 0.4],\n",
       "        [4.6, 3.4, 1.4, 0.3],\n",
       "        [5. , 3.4, 1.5, 0.2],\n",
       "        [4.4, 2.9, 1.4, 0.2],\n",
       "        [4.9, 3.1, 1.5, 0.1],\n",
       "        [5.4, 3.7, 1.5, 0.2],\n",
       "        [4.8, 3.4, 1.6, 0.2],\n",
       "        [4.8, 3. , 1.4, 0.1],\n",
       "        [4.3, 3. , 1.1, 0.1],\n",
       "        [5.8, 4. , 1.2, 0.2],\n",
       "        [5.7, 4.4, 1.5, 0.4],\n",
       "        [5.4, 3.9, 1.3, 0.4],\n",
       "        [5.1, 3.5, 1.4, 0.3],\n",
       "        [5.7, 3.8, 1.7, 0.3],\n",
       "        [5.1, 3.8, 1.5, 0.3],\n",
       "        [5.4, 3.4, 1.7, 0.2],\n",
       "        [5.1, 3.7, 1.5, 0.4],\n",
       "        [4.6, 3.6, 1. , 0.2],\n",
       "        [5.1, 3.3, 1.7, 0.5],\n",
       "        [4.8, 3.4, 1.9, 0.2],\n",
       "        [5. , 3. , 1.6, 0.2],\n",
       "        [5. , 3.4, 1.6, 0.4],\n",
       "        [5.2, 3.5, 1.5, 0.2],\n",
       "        [5.2, 3.4, 1.4, 0.2],\n",
       "        [4.7, 3.2, 1.6, 0.2],\n",
       "        [4.8, 3.1, 1.6, 0.2],\n",
       "        [5.4, 3.4, 1.5, 0.4],\n",
       "        [5.2, 4.1, 1.5, 0.1],\n",
       "        [5.5, 4.2, 1.4, 0.2],\n",
       "        [4.9, 3.1, 1.5, 0.2],\n",
       "        [5. , 3.2, 1.2, 0.2],\n",
       "        [5.5, 3.5, 1.3, 0.2],\n",
       "        [4.9, 3.6, 1.4, 0.1],\n",
       "        [4.4, 3. , 1.3, 0.2],\n",
       "        [5.1, 3.4, 1.5, 0.2],\n",
       "        [5. , 3.5, 1.3, 0.3],\n",
       "        [4.5, 2.3, 1.3, 0.3],\n",
       "        [4.4, 3.2, 1.3, 0.2],\n",
       "        [5. , 3.5, 1.6, 0.6],\n",
       "        [5.1, 3.8, 1.9, 0.4],\n",
       "        [4.8, 3. , 1.4, 0.3],\n",
       "        [5.1, 3.8, 1.6, 0.2],\n",
       "        [4.6, 3.2, 1.4, 0.2],\n",
       "        [5.3, 3.7, 1.5, 0.2],\n",
       "        [5. , 3.3, 1.4, 0.2],\n",
       "        [7. , 3.2, 4.7, 1.4],\n",
       "        [6.4, 3.2, 4.5, 1.5],\n",
       "        [6.9, 3.1, 4.9, 1.5],\n",
       "        [5.5, 2.3, 4. , 1.3],\n",
       "        [6.5, 2.8, 4.6, 1.5],\n",
       "        [5.7, 2.8, 4.5, 1.3],\n",
       "        [6.3, 3.3, 4.7, 1.6],\n",
       "        [4.9, 2.4, 3.3, 1. ],\n",
       "        [6.6, 2.9, 4.6, 1.3],\n",
       "        [5.2, 2.7, 3.9, 1.4],\n",
       "        [5. , 2. , 3.5, 1. ],\n",
       "        [5.9, 3. , 4.2, 1.5],\n",
       "        [6. , 2.2, 4. , 1. ],\n",
       "        [6.1, 2.9, 4.7, 1.4],\n",
       "        [5.6, 2.9, 3.6, 1.3],\n",
       "        [6.7, 3.1, 4.4, 1.4],\n",
       "        [5.6, 3. , 4.5, 1.5],\n",
       "        [5.8, 2.7, 4.1, 1. ],\n",
       "        [6.2, 2.2, 4.5, 1.5],\n",
       "        [5.6, 2.5, 3.9, 1.1],\n",
       "        [5.9, 3.2, 4.8, 1.8],\n",
       "        [6.1, 2.8, 4. , 1.3],\n",
       "        [6.3, 2.5, 4.9, 1.5],\n",
       "        [6.1, 2.8, 4.7, 1.2],\n",
       "        [6.4, 2.9, 4.3, 1.3],\n",
       "        [6.6, 3. , 4.4, 1.4],\n",
       "        [6.8, 2.8, 4.8, 1.4],\n",
       "        [6.7, 3. , 5. , 1.7],\n",
       "        [6. , 2.9, 4.5, 1.5],\n",
       "        [5.7, 2.6, 3.5, 1. ],\n",
       "        [5.5, 2.4, 3.8, 1.1],\n",
       "        [5.5, 2.4, 3.7, 1. ],\n",
       "        [5.8, 2.7, 3.9, 1.2],\n",
       "        [6. , 2.7, 5.1, 1.6],\n",
       "        [5.4, 3. , 4.5, 1.5],\n",
       "        [6. , 3.4, 4.5, 1.6],\n",
       "        [6.7, 3.1, 4.7, 1.5],\n",
       "        [6.3, 2.3, 4.4, 1.3],\n",
       "        [5.6, 3. , 4.1, 1.3],\n",
       "        [5.5, 2.5, 4. , 1.3],\n",
       "        [5.5, 2.6, 4.4, 1.2],\n",
       "        [6.1, 3. , 4.6, 1.4],\n",
       "        [5.8, 2.6, 4. , 1.2],\n",
       "        [5. , 2.3, 3.3, 1. ],\n",
       "        [5.6, 2.7, 4.2, 1.3],\n",
       "        [5.7, 3. , 4.2, 1.2],\n",
       "        [5.7, 2.9, 4.2, 1.3],\n",
       "        [6.2, 2.9, 4.3, 1.3],\n",
       "        [5.1, 2.5, 3. , 1.1],\n",
       "        [5.7, 2.8, 4.1, 1.3],\n",
       "        [6.3, 3.3, 6. , 2.5],\n",
       "        [5.8, 2.7, 5.1, 1.9],\n",
       "        [7.1, 3. , 5.9, 2.1],\n",
       "        [6.3, 2.9, 5.6, 1.8],\n",
       "        [6.5, 3. , 5.8, 2.2],\n",
       "        [7.6, 3. , 6.6, 2.1],\n",
       "        [4.9, 2.5, 4.5, 1.7],\n",
       "        [7.3, 2.9, 6.3, 1.8],\n",
       "        [6.7, 2.5, 5.8, 1.8],\n",
       "        [7.2, 3.6, 6.1, 2.5],\n",
       "        [6.5, 3.2, 5.1, 2. ],\n",
       "        [6.4, 2.7, 5.3, 1.9],\n",
       "        [6.8, 3. , 5.5, 2.1],\n",
       "        [5.7, 2.5, 5. , 2. ],\n",
       "        [5.8, 2.8, 5.1, 2.4],\n",
       "        [6.4, 3.2, 5.3, 2.3],\n",
       "        [6.5, 3. , 5.5, 1.8],\n",
       "        [7.7, 3.8, 6.7, 2.2],\n",
       "        [7.7, 2.6, 6.9, 2.3],\n",
       "        [6. , 2.2, 5. , 1.5],\n",
       "        [6.9, 3.2, 5.7, 2.3],\n",
       "        [5.6, 2.8, 4.9, 2. ],\n",
       "        [7.7, 2.8, 6.7, 2. ],\n",
       "        [6.3, 2.7, 4.9, 1.8],\n",
       "        [6.7, 3.3, 5.7, 2.1],\n",
       "        [7.2, 3.2, 6. , 1.8],\n",
       "        [6.2, 2.8, 4.8, 1.8],\n",
       "        [6.1, 3. , 4.9, 1.8],\n",
       "        [6.4, 2.8, 5.6, 2.1],\n",
       "        [7.2, 3. , 5.8, 1.6],\n",
       "        [7.4, 2.8, 6.1, 1.9],\n",
       "        [7.9, 3.8, 6.4, 2. ],\n",
       "        [6.4, 2.8, 5.6, 2.2],\n",
       "        [6.3, 2.8, 5.1, 1.5],\n",
       "        [6.1, 2.6, 5.6, 1.4],\n",
       "        [7.7, 3. , 6.1, 2.3],\n",
       "        [6.3, 3.4, 5.6, 2.4],\n",
       "        [6.4, 3.1, 5.5, 1.8],\n",
       "        [6. , 3. , 4.8, 1.8],\n",
       "        [6.9, 3.1, 5.4, 2.1],\n",
       "        [6.7, 3.1, 5.6, 2.4],\n",
       "        [6.9, 3.1, 5.1, 2.3],\n",
       "        [5.8, 2.7, 5.1, 1.9],\n",
       "        [6.8, 3.2, 5.9, 2.3],\n",
       "        [6.7, 3.3, 5.7, 2.5],\n",
       "        [6.7, 3. , 5.2, 2.3],\n",
       "        [6.3, 2.5, 5. , 1.9],\n",
       "        [6.5, 3. , 5.2, 2. ],\n",
       "        [6.2, 3.4, 5.4, 2.3],\n",
       "        [5.9, 3. , 5.1, 1.8]]),\n",
       " 'target': array([0, 0, 0, 0, 0, 0, 0, 0, 0, 0, 0, 0, 0, 0, 0, 0, 0, 0, 0, 0, 0, 0,\n",
       "        0, 0, 0, 0, 0, 0, 0, 0, 0, 0, 0, 0, 0, 0, 0, 0, 0, 0, 0, 0, 0, 0,\n",
       "        0, 0, 0, 0, 0, 0, 1, 1, 1, 1, 1, 1, 1, 1, 1, 1, 1, 1, 1, 1, 1, 1,\n",
       "        1, 1, 1, 1, 1, 1, 1, 1, 1, 1, 1, 1, 1, 1, 1, 1, 1, 1, 1, 1, 1, 1,\n",
       "        1, 1, 1, 1, 1, 1, 1, 1, 1, 1, 1, 1, 2, 2, 2, 2, 2, 2, 2, 2, 2, 2,\n",
       "        2, 2, 2, 2, 2, 2, 2, 2, 2, 2, 2, 2, 2, 2, 2, 2, 2, 2, 2, 2, 2, 2,\n",
       "        2, 2, 2, 2, 2, 2, 2, 2, 2, 2, 2, 2, 2, 2, 2, 2, 2, 2]),\n",
       " 'target_names': array(['setosa', 'versicolor', 'virginica'], dtype='<U10'),\n",
       " 'DESCR': '.. _iris_dataset:\\n\\nIris plants dataset\\n--------------------\\n\\n**Data Set Characteristics:**\\n\\n    :Number of Instances: 150 (50 in each of three classes)\\n    :Number of Attributes: 4 numeric, predictive attributes and the class\\n    :Attribute Information:\\n        - sepal length in cm\\n        - sepal width in cm\\n        - petal length in cm\\n        - petal width in cm\\n        - class:\\n                - Iris-Setosa\\n                - Iris-Versicolour\\n                - Iris-Virginica\\n                \\n    :Summary Statistics:\\n\\n    ============== ==== ==== ======= ===== ====================\\n                    Min  Max   Mean    SD   Class Correlation\\n    ============== ==== ==== ======= ===== ====================\\n    sepal length:   4.3  7.9   5.84   0.83    0.7826\\n    sepal width:    2.0  4.4   3.05   0.43   -0.4194\\n    petal length:   1.0  6.9   3.76   1.76    0.9490  (high!)\\n    petal width:    0.1  2.5   1.20   0.76    0.9565  (high!)\\n    ============== ==== ==== ======= ===== ====================\\n\\n    :Missing Attribute Values: None\\n    :Class Distribution: 33.3% for each of 3 classes.\\n    :Creator: R.A. Fisher\\n    :Donor: Michael Marshall (MARSHALL%PLU@io.arc.nasa.gov)\\n    :Date: July, 1988\\n\\nThe famous Iris database, first used by Sir R.A. Fisher. The dataset is taken\\nfrom Fisher\\'s paper. Note that it\\'s the same as in R, but not as in the UCI\\nMachine Learning Repository, which has two wrong data points.\\n\\nThis is perhaps the best known database to be found in the\\npattern recognition literature.  Fisher\\'s paper is a classic in the field and\\nis referenced frequently to this day.  (See Duda & Hart, for example.)  The\\ndata set contains 3 classes of 50 instances each, where each class refers to a\\ntype of iris plant.  One class is linearly separable from the other 2; the\\nlatter are NOT linearly separable from each other.\\n\\n.. topic:: References\\n\\n   - Fisher, R.A. \"The use of multiple measurements in taxonomic problems\"\\n     Annual Eugenics, 7, Part II, 179-188 (1936); also in \"Contributions to\\n     Mathematical Statistics\" (John Wiley, NY, 1950).\\n   - Duda, R.O., & Hart, P.E. (1973) Pattern Classification and Scene Analysis.\\n     (Q327.D83) John Wiley & Sons.  ISBN 0-471-22361-1.  See page 218.\\n   - Dasarathy, B.V. (1980) \"Nosing Around the Neighborhood: A New System\\n     Structure and Classification Rule for Recognition in Partially Exposed\\n     Environments\".  IEEE Transactions on Pattern Analysis and Machine\\n     Intelligence, Vol. PAMI-2, No. 1, 67-71.\\n   - Gates, G.W. (1972) \"The Reduced Nearest Neighbor Rule\".  IEEE Transactions\\n     on Information Theory, May 1972, 431-433.\\n   - See also: 1988 MLC Proceedings, 54-64.  Cheeseman et al\"s AUTOCLASS II\\n     conceptual clustering system finds 3 classes in the data.\\n   - Many, many more ...',\n",
       " 'feature_names': ['sepal length (cm)',\n",
       "  'sepal width (cm)',\n",
       "  'petal length (cm)',\n",
       "  'petal width (cm)'],\n",
       " 'filename': '/Users/abhishekkumar/anaconda3/lib/python3.7/site-packages/sklearn/datasets/data/iris.csv'}"
      ]
     },
     "execution_count": 22,
     "metadata": {},
     "output_type": "execute_result"
    }
   ],
   "source": [
    "data"
   ]
  },
  {
   "cell_type": "code",
   "execution_count": 11,
   "metadata": {
    "scrolled": true
   },
   "outputs": [
    {
     "data": {
      "text/plain": [
       "{'n_estimators': 132,\n",
       " 'max_depth': 9,\n",
       " 'min_samples_split': 9,\n",
       " 'min_samples_leaf': 2,\n",
       " 'max_features': 3}"
      ]
     },
     "execution_count": 11,
     "metadata": {},
     "output_type": "execute_result"
    }
   ],
   "source": [
    "rf_params"
   ]
  },
  {
   "cell_type": "code",
   "execution_count": 34,
   "metadata": {
    "scrolled": true
   },
   "outputs": [
    {
     "name": "stderr",
     "output_type": "stream",
     "text": [
      "\u001b[32m[I 2022-08-25 09:03:00,765]\u001b[0m A new study created in memory with name: no-name-d69cb89f-f596-4099-a164-17b2e43da2e5\u001b[0m\n",
      "\u001b[32m[I 2022-08-25 09:03:04,199]\u001b[0m Trial 0 finished with value: 0.9368921444015669 and parameters: {'n_estimators': 151, 'max_depth': 19, 'min_samples_split': 9, 'min_samples_leaf': 7, 'max_features': 3}. Best is trial 0 with value: 0.9368921444015669.\u001b[0m\n",
      "\u001b[32m[I 2022-08-25 09:03:05,304]\u001b[0m Trial 1 finished with value: 0.9368921444015669 and parameters: {'n_estimators': 92, 'max_depth': 11, 'min_samples_split': 5, 'min_samples_leaf': 4, 'max_features': 3}. Best is trial 0 with value: 0.9368921444015669.\u001b[0m\n",
      "\u001b[32m[I 2022-08-25 09:03:06,529]\u001b[0m Trial 2 finished with value: 0.9549916919128792 and parameters: {'n_estimators': 125, 'max_depth': 6, 'min_samples_split': 4, 'min_samples_leaf': 6, 'max_features': 1}. Best is trial 2 with value: 0.9549916919128792.\u001b[0m\n",
      "\u001b[32m[I 2022-08-25 09:03:07,518]\u001b[0m Trial 3 finished with value: 0.9368921444015669 and parameters: {'n_estimators': 57, 'max_depth': 19, 'min_samples_split': 2, 'min_samples_leaf': 4, 'max_features': 4}. Best is trial 2 with value: 0.9549916919128792.\u001b[0m\n",
      "\u001b[32m[I 2022-08-25 09:03:08,748]\u001b[0m Trial 4 finished with value: 0.9368921444015669 and parameters: {'n_estimators': 116, 'max_depth': 9, 'min_samples_split': 2, 'min_samples_leaf': 9, 'max_features': 3}. Best is trial 2 with value: 0.9549916919128792.\u001b[0m\n",
      "\u001b[32m[I 2022-08-25 09:03:10,031]\u001b[0m Trial 5 finished with value: 0.9462960397389661 and parameters: {'n_estimators': 137, 'max_depth': 13, 'min_samples_split': 8, 'min_samples_leaf': 7, 'max_features': 1}. Best is trial 2 with value: 0.9549916919128792.\u001b[0m\n",
      "\u001b[32m[I 2022-08-25 09:03:11,085]\u001b[0m Trial 6 finished with value: 0.9368921444015669 and parameters: {'n_estimators': 76, 'max_depth': 5, 'min_samples_split': 2, 'min_samples_leaf': 3, 'max_features': 4}. Best is trial 2 with value: 0.9549916919128792.\u001b[0m\n",
      "\u001b[32m[I 2022-08-25 09:03:12,331]\u001b[0m Trial 7 finished with value: 0.9549916919128792 and parameters: {'n_estimators': 121, 'max_depth': 12, 'min_samples_split': 4, 'min_samples_leaf': 9, 'max_features': 1}. Best is trial 2 with value: 0.9549916919128792.\u001b[0m\n",
      "\u001b[32m[I 2022-08-25 09:03:13,818]\u001b[0m Trial 8 finished with value: 0.9368921444015669 and parameters: {'n_estimators': 184, 'max_depth': 7, 'min_samples_split': 6, 'min_samples_leaf': 4, 'max_features': 4}. Best is trial 2 with value: 0.9549916919128792.\u001b[0m\n",
      "\u001b[32m[I 2022-08-25 09:03:15,314]\u001b[0m Trial 9 finished with value: 0.9368921444015669 and parameters: {'n_estimators': 184, 'max_depth': 20, 'min_samples_split': 3, 'min_samples_leaf': 6, 'max_features': 4}. Best is trial 2 with value: 0.9549916919128792.\u001b[0m\n"
     ]
    },
    {
     "name": "stdout",
     "output_type": "stream",
     "text": [
      "Best score: 0.9549916919128792\n",
      "\n",
      "Optimized parameters: {'n_estimators': 125, 'max_depth': 6, 'min_samples_split': 4, 'min_samples_leaf': 6, 'max_features': 1}\n",
      "\n"
     ]
    },
    {
     "data": {
      "text/plain": [
       "RandomForestClassifier(bootstrap=True, class_weight=None, criterion='gini',\n",
       "                       max_depth=6, max_features=1, max_leaf_nodes=None,\n",
       "                       min_impurity_decrease=0.0, min_impurity_split=None,\n",
       "                       min_samples_leaf=6, min_samples_split=4,\n",
       "                       min_weight_fraction_leaf=0.0, n_estimators=125,\n",
       "                       n_jobs=None, oob_score=False, random_state=42, verbose=0,\n",
       "                       warm_start=False)"
      ]
     },
     "execution_count": 34,
     "metadata": {},
     "output_type": "execute_result"
    }
   ],
   "source": [
    "from sklearn.ensemble import RandomForestClassifier\n",
    "import matplotlib.pyplot as plt\n",
    "import numpy as np\n",
    "from sklearn.datasets import load_iris\n",
    "from sklearn.metrics import classification_report, confusion_matrix\n",
    "from sklearn.model_selection import KFold, cross_val_score, train_test_split\n",
    "import optuna\n",
    "import warnings\n",
    "warnings.filterwarnings('ignore')\n",
    "\n",
    "# prepare the data\n",
    "iris = load_iris()\n",
    "X, y = pd.DataFrame(iris.data, columns = iris.feature_names), iris.target\n",
    "X_train, X_test, y_train, y_test = train_test_split(X, y, test_size=0.25, random_state=12)\n",
    "RANDOM_SEED = 42\n",
    "\n",
    "\n",
    "def tune(objective):\n",
    "    study = optuna.create_study(direction=\"maximize\")\n",
    "    study.optimize(objective, n_trials=10)\n",
    "\n",
    "    params = study.best_params\n",
    "    best_score = study.best_value\n",
    "    print(f\"Best score: {best_score}\\n\")\n",
    "    print(f\"Optimized parameters: {params}\\n\")\n",
    "    return params\n",
    "\n",
    "\n",
    "\n",
    "def random_forest_objective(trial):\n",
    "    \n",
    "    # 5-fold CV\n",
    "    kfolds = KFold(n_splits=5, shuffle=True, random_state=RANDOM_SEED)# Define the helper function so that it can be reused\n",
    "\n",
    "    _n_estimators = trial.suggest_int(\"n_estimators\", 50, 200)\n",
    "    _max_depth = trial.suggest_int(\"max_depth\", 5, 20)\n",
    "    _min_samp_split = trial.suggest_int(\"min_samples_split\", 2, 10)\n",
    "    _min_samples_leaf = trial.suggest_int(\"min_samples_leaf\", 2, 10)\n",
    "    _max_features = trial.suggest_int(\"max_features\", 1, 4)\n",
    "    \n",
    "    rf = RandomForestClassifier(\n",
    "        max_depth=_max_depth,\n",
    "        min_samples_split=_min_samp_split,\n",
    "        min_samples_leaf=_min_samples_leaf,\n",
    "        max_features=_max_features,\n",
    "        n_estimators=_n_estimators,\n",
    "        n_jobs=-1,\n",
    "        random_state=RANDOM_SEED,\n",
    "    )\n",
    "\n",
    "    scores = cross_val_score(\n",
    "        rf, X_train, y_train, cv=kfolds,\n",
    "        scoring=\"f1_weighted\"\n",
    "    )\n",
    "    return scores.mean()\n",
    "\n",
    "\n",
    "rf_params = tune(random_forest_objective)\n",
    "rf = RandomForestClassifier(**rf_params, random_state=RANDOM_SEED)\n",
    "\n",
    "rf.fit(X_train, y_train)"
   ]
  },
  {
   "cell_type": "code",
   "execution_count": 35,
   "metadata": {},
   "outputs": [
    {
     "data": {
      "text/plain": [
       "['sepal length (cm)',\n",
       " 'sepal width (cm)',\n",
       " 'petal length (cm)',\n",
       " 'petal width (cm)']"
      ]
     },
     "execution_count": 35,
     "metadata": {},
     "output_type": "execute_result"
    }
   ],
   "source": [
    "iris.feature_names"
   ]
  },
  {
   "cell_type": "code",
   "execution_count": 38,
   "metadata": {},
   "outputs": [
    {
     "data": {
      "image/png": "[encoded data removed]",
      "text/plain": [
       "<Figure size 432x288 with 4 Axes>"
      ]
     },
     "metadata": {
      "needs_background": "light"
     },
     "output_type": "display_data"
    }
   ],
   "source": [
    "import shap\n",
    "def model_proba(x):\n",
    "    return rf.predict_proba(x)[:,1]\n",
    "def model_log_odds(x):\n",
    "    p = rf.predict_log_proba(x)\n",
    "    return p[:,1] - p[:,0]\n",
    "\n",
    "# make a standard partial dependence plot\n",
    "sample_ind = 18\n",
    "fig,ax = shap.partial_dependence_plot(\n",
    "    'sepal length (cm)', model_proba, X_train, model_expected_value=True,\n",
    "    feature_expected_value=True, show=False, ice=False\n",
    ")"
   ]
  },
  {
   "cell_type": "code",
   "execution_count": 40,
   "metadata": {},
   "outputs": [],
   "source": [
    "# compute the SHAP values for the linear model\n",
    "background = shap.maskers.Independent(X, max_samples=100)\n",
    "explainer = shap.Explainer(model_proba, background)\n",
    "shap_values = explainer(X[:1000])"
   ]
  },
  {
   "cell_type": "code",
   "execution_count": 42,
   "metadata": {},
   "outputs": [
    {
     "data": {
      "image/png": "[encoded data removed]",
      "text/plain": [
       "<Figure size 576x223.2 with 2 Axes>"
      ]
     },
     "metadata": {
      "needs_background": "light"
     },
     "output_type": "display_data"
    }
   ],
   "source": [
    "shap.plots.beeswarm(shap_values)"
   ]
  },
  {
   "cell_type": "code",
   "execution_count": 43,
   "metadata": {},
   "outputs": [
    {
     "data": {
      "image/png": "[encoded data removed]",
      "text/plain": [
       "<Figure size 576x252 with 3 Axes>"
      ]
     },
     "metadata": {},
     "output_type": "display_data"
    }
   ],
   "source": [
    "shap.plots.waterfall(shap_values[1])"
   ]
  },
  {
   "cell_type": "code",
   "execution_count": null,
   "metadata": {},
   "outputs": [],
   "source": []
  }
 ],
 "metadata": {
  "kernelspec": {
   "display_name": "Python 3",
   "language": "python",
   "name": "python3"
  },
  "language_info": {
   "codemirror_mode": {
    "name": "ipython",
    "version": 3
   },
   "file_extension": ".py",
   "mimetype": "text/x-python",
   "name": "python",
   "nbconvert_exporter": "python",
   "pygments_lexer": "ipython3",
   "version": "3.7.4"
  }
 },
 "nbformat": 4,
 "nbformat_minor": 2
}
