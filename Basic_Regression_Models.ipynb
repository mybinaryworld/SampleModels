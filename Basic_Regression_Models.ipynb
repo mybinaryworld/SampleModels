{
 "cells": [
  {
   "cell_type": "code",
   "execution_count": 12,
   "metadata": {},
   "outputs": [
    {
     "name": "stderr",
     "output_type": "stream",
     "text": [
      "\u001b[32m[I 2022-08-22 20:36:31,872]\u001b[0m A new study created in memory with name: no-name-bba854e1-09bf-4fde-9ee3-12e4a943ee9b\u001b[0m\n",
      "\u001b[32m[I 2022-08-22 20:36:31,892]\u001b[0m Trial 0 finished with value: -39.1485037963693 and parameters: {'alpha': 19.32159090396838}. Best is trial 0 with value: -39.1485037963693.\u001b[0m\n",
      "\u001b[32m[I 2022-08-22 20:36:31,910]\u001b[0m Trial 1 finished with value: -37.24365105518069 and parameters: {'alpha': 15.972521278791216}. Best is trial 1 with value: -37.24365105518069.\u001b[0m\n",
      "\u001b[32m[I 2022-08-22 20:36:31,929]\u001b[0m Trial 2 finished with value: -27.01389408135883 and parameters: {'alpha': 3.129848623933494}. Best is trial 2 with value: -27.01389408135883.\u001b[0m\n",
      "\u001b[32m[I 2022-08-22 20:36:31,955]\u001b[0m Trial 3 finished with value: -35.062272564139086 and parameters: {'alpha': 12.649727571804974}. Best is trial 2 with value: -27.01389408135883.\u001b[0m\n",
      "\u001b[32m[I 2022-08-22 20:36:31,978]\u001b[0m Trial 4 finished with value: -33.88682699073287 and parameters: {'alpha': 11.043605227704033}. Best is trial 2 with value: -27.01389408135883.\u001b[0m\n",
      "\u001b[32m[I 2022-08-22 20:36:31,997]\u001b[0m Trial 5 finished with value: -25.574276788469533 and parameters: {'alpha': 1.2503975827673108}. Best is trial 5 with value: -25.574276788469533.\u001b[0m\n",
      "\u001b[32m[I 2022-08-22 20:36:32,018]\u001b[0m Trial 6 finished with value: -25.263155812390377 and parameters: {'alpha': 0.5730557608924626}. Best is trial 6 with value: -25.263155812390377.\u001b[0m\n",
      "\u001b[32m[I 2022-08-22 20:36:32,032]\u001b[0m Trial 7 finished with value: -26.510042486171095 and parameters: {'alpha': 2.541187049788987}. Best is trial 6 with value: -25.263155812390377.\u001b[0m\n",
      "\u001b[32m[I 2022-08-22 20:36:32,051]\u001b[0m Trial 8 finished with value: -38.10408366894613 and parameters: {'alpha': 17.427567154224775}. Best is trial 6 with value: -25.263155812390377.\u001b[0m\n",
      "\u001b[32m[I 2022-08-22 20:36:32,069]\u001b[0m Trial 9 finished with value: -36.06650495206341 and parameters: {'alpha': 14.119227226881613}. Best is trial 6 with value: -25.263155812390377.\u001b[0m\n"
     ]
    },
    {
     "name": "stdout",
     "output_type": "stream",
     "text": [
      "Best score: -25.263155812390377\n",
      "\n",
      "Optimized parameters: {'alpha': 0.5730557608924626}\n",
      "\n",
      "[ -7.08709261   4.48894021   0.53707831   3.38059849  -8.08658375\n",
      "  16.20970207   1.97833852 -12.48009522   6.31092865  -5.90264243\n",
      "  -7.38610345   3.64696316 -20.40607202]\n"
     ]
    }
   ],
   "source": [
    "from sklearn.model_selection import KFold, cross_val_score, train_test_split\n",
    "import optuna\n",
    "from sklearn.linear_model import Ridge\n",
    "from sklearn.datasets import load_boston\n",
    "import numpy as np\n",
    "import pandas as pd\n",
    "import warnings\n",
    "warnings.filterwarnings('ignore')\n",
    "\n",
    "# prepare the data\n",
    "boston = load_boston()\n",
    "X = pd.DataFrame(boston.data, columns=boston.feature_names)\n",
    "y = boston.target\n",
    "\n",
    "X_train, X_test, y_train, y_test = train_test_split(X, y, test_size=0.25, random_state=12)\n",
    "RANDOM_SEED = 42\n",
    "\n",
    "#normalize train and then test data\n",
    "from sklearn.preprocessing import MinMaxScaler\n",
    "scaler = MinMaxScaler()\n",
    "X_train = scaler.fit_transform(X_train)\n",
    "X_train = pd.DataFrame(X_train, columns=boston.feature_names)\n",
    "X_test = scaler.transform(X_test)\n",
    "X_test = pd.DataFrame(X_test, columns=boston.feature_names)\n",
    "\n",
    "def tune(objective):\n",
    "    study = optuna.create_study(direction=\"maximize\")\n",
    "    study.optimize(objective, n_trials=10)\n",
    "\n",
    "    params = study.best_params\n",
    "    best_score = study.best_value\n",
    "    print(f\"Best score: {best_score}\\n\")\n",
    "    print(f\"Optimized parameters: {params}\\n\")\n",
    "    return params\n",
    "\n",
    "\n",
    "\n",
    "def ridge_objective(trial):\n",
    "    \n",
    "    # 5-fold CV\n",
    "    kfolds = KFold(n_splits=5, shuffle=True, random_state=RANDOM_SEED)# Define the helper function so that it can be reused\n",
    "\n",
    "    _alpha = trial.suggest_float(\"alpha\", 0.1, 20)\n",
    "    ridge = Ridge(alpha=_alpha, random_state=RANDOM_SEED)\n",
    "    scores = cross_val_score(\n",
    "        ridge, X_train, y_train, cv=kfolds,\n",
    "        scoring=\"neg_mean_squared_error\"\n",
    "    )\n",
    "    return scores.mean()\n",
    "\n",
    "\n",
    "ridge_params = tune(ridge_objective)\n",
    "ridge = Ridge(**ridge_params, random_state=RANDOM_SEED)\n",
    "\n",
    "ridge.fit(X_train, y_train)\n",
    "print(ridge.coef_)"
   ]
  },
  {
   "cell_type": "code",
   "execution_count": 16,
   "metadata": {},
   "outputs": [
    {
     "data": {
      "image/png": "[encoded data removed]",
      "text/plain": [
       "<Figure size 432x288 with 4 Axes>"
      ]
     },
     "metadata": {
      "needs_background": "light"
     },
     "output_type": "display_data"
    }
   ],
   "source": [
    "import shap\n",
    "shap.partial_dependence_plot(\n",
    "    \"CRIM\", ridge.predict, X_test, ice=False,\n",
    "    model_expected_value=True, feature_expected_value=True\n",
    ")"
   ]
  },
  {
   "cell_type": "code",
   "execution_count": 47,
   "metadata": {},
   "outputs": [
    {
     "name": "stdout",
     "output_type": "stream",
     "text": [
      "Collecting numba\n",
      "  Using cached https://files.pythonhosted.org/packages/1a/03/9927f144ba62393b3a3c16ea4d1f7c5c3ad4a8b8a7fbd2aec9d0b6bcb468/numba-0.56.0-cp37-cp37m-macosx_10_14_x86_64.whl\n",
      "Requirement already satisfied: setuptools in /Users/abhishekkumar/anaconda3/lib/python3.7/site-packages (from numba) (41.4.0)\n",
      "Requirement already satisfied: importlib-metadata; python_version < \"3.9\" in /Users/abhishekkumar/anaconda3/lib/python3.7/site-packages (from numba) (0.23)\n",
      "Collecting llvmlite<0.40,>=0.39.0dev0 (from numba)\n",
      "  Using cached https://files.pythonhosted.org/packages/3d/0c/bd8111f7bef10512fa77e0881c9619bccfc235f875d043d9026e00dbd7c6/llvmlite-0.39.0-cp37-cp37m-macosx_10_9_x86_64.whl\n",
      "Requirement already satisfied: numpy<1.23,>=1.18 in /Users/abhishekkumar/anaconda3/lib/python3.7/site-packages (from numba) (1.21.6)\n",
      "Requirement already satisfied: zipp>=0.5 in /Users/abhishekkumar/anaconda3/lib/python3.7/site-packages (from importlib-metadata; python_version < \"3.9\"->numba) (3.8.1)\n",
      "Installing collected packages: llvmlite, numba\n",
      "Successfully installed llvmlite-0.39.0 numba-0.56.0\n"
     ]
    }
   ],
   "source": [
    "!pip install numba --user"
   ]
  },
  {
   "cell_type": "code",
   "execution_count": 46,
   "metadata": {},
   "outputs": [
    {
     "name": "stdout",
     "output_type": "stream",
     "text": [
      "\r\n",
      "Usage:   \r\n",
      "  pip install [options] <requirement specifier> [package-index-options] ...\r\n",
      "  pip install [options] -r <requirements file> [package-index-options] ...\r\n",
      "  pip install [options] [-e] <vcs project url> ...\r\n",
      "  pip install [options] [-e] <local project path> ...\r\n",
      "  pip install [options] <archive url/path> ...\r\n",
      "\r\n",
      "ambiguous option: --ignore (--ignore-installed, --ignore-requires-python?)\r\n"
     ]
    }
   ],
   "source": [
    "!pip install llvmlite --ignore installed"
   ]
  },
  {
   "cell_type": "code",
   "execution_count": 37,
   "metadata": {},
   "outputs": [
    {
     "name": "stderr",
     "output_type": "stream",
     "text": [
      "\u001b[32m[I 2022-08-20 13:26:17,017]\u001b[0m A new study created in memory with name: no-name-c47bd895-8fd6-454d-9236-5b829604bb01\u001b[0m\n",
      "\u001b[32m[I 2022-08-20 13:26:17,033]\u001b[0m Trial 0 finished with value: -51.52561653716957 and parameters: {'alpha': 0.7722431689793202}. Best is trial 0 with value: -51.52561653716957.\u001b[0m\n",
      "\u001b[32m[I 2022-08-20 13:26:17,043]\u001b[0m Trial 1 finished with value: -30.38882868399736 and parameters: {'alpha': 0.1817041696146233}. Best is trial 1 with value: -30.38882868399736.\u001b[0m\n",
      "\u001b[32m[I 2022-08-20 13:26:17,052]\u001b[0m Trial 2 finished with value: -40.13327151652752 and parameters: {'alpha': 0.44544050166073573}. Best is trial 1 with value: -30.38882868399736.\u001b[0m\n",
      "\u001b[32m[I 2022-08-20 13:26:17,067]\u001b[0m Trial 3 finished with value: -52.34262588564601 and parameters: {'alpha': 0.7932242097813096}. Best is trial 1 with value: -30.38882868399736.\u001b[0m\n",
      "\u001b[32m[I 2022-08-20 13:26:17,079]\u001b[0m Trial 4 finished with value: -28.92186037831946 and parameters: {'alpha': 0.11430102136843077}. Best is trial 4 with value: -28.92186037831946.\u001b[0m\n",
      "\u001b[32m[I 2022-08-20 13:26:17,094]\u001b[0m Trial 5 finished with value: -27.33641409009791 and parameters: {'alpha': 0.04951683578987091}. Best is trial 5 with value: -27.33641409009791.\u001b[0m\n",
      "\u001b[32m[I 2022-08-20 13:26:17,107]\u001b[0m Trial 6 finished with value: -29.92881763239391 and parameters: {'alpha': 0.16398000742548768}. Best is trial 5 with value: -27.33641409009791.\u001b[0m\n",
      "\u001b[32m[I 2022-08-20 13:26:17,122]\u001b[0m Trial 7 finished with value: -42.352028613464725 and parameters: {'alpha': 0.5124615236248491}. Best is trial 5 with value: -27.33641409009791.\u001b[0m\n",
      "\u001b[32m[I 2022-08-20 13:26:17,139]\u001b[0m Trial 8 finished with value: -37.44947929123596 and parameters: {'alpha': 0.38257228779461966}. Best is trial 5 with value: -27.33641409009791.\u001b[0m\n",
      "\u001b[32m[I 2022-08-20 13:26:17,154]\u001b[0m Trial 9 finished with value: -60.89478552800959 and parameters: {'alpha': 0.9866554559892997}. Best is trial 5 with value: -27.33641409009791.\u001b[0m\n",
      "\u001b[32m[I 2022-08-20 13:26:17,168]\u001b[0m Trial 10 finished with value: -26.72284093704377 and parameters: {'alpha': 0.03549378767850265}. Best is trial 10 with value: -26.72284093704377.\u001b[0m\n",
      "\u001b[32m[I 2022-08-20 13:26:17,180]\u001b[0m Trial 11 finished with value: -26.717535719125134 and parameters: {'alpha': 0.035355277250879405}. Best is trial 11 with value: -26.717535719125134.\u001b[0m\n",
      "\u001b[32m[I 2022-08-20 13:26:17,189]\u001b[0m Trial 12 finished with value: -33.843402250271296 and parameters: {'alpha': 0.28928679555344555}. Best is trial 11 with value: -26.717535719125134.\u001b[0m\n",
      "\u001b[32m[I 2022-08-20 13:26:17,203]\u001b[0m Trial 13 finished with value: -25.366416689888446 and parameters: {'alpha': 0.0035636860030531237}. Best is trial 13 with value: -25.366416689888446.\u001b[0m\n",
      "\u001b[32m[I 2022-08-20 13:26:17,216]\u001b[0m Trial 14 finished with value: -33.15177529781121 and parameters: {'alpha': 0.2698792359135108}. Best is trial 13 with value: -25.366416689888446.\u001b[0m\n",
      "\u001b[32m[I 2022-08-20 13:26:17,228]\u001b[0m Trial 15 finished with value: -25.31776805736427 and parameters: {'alpha': 0.002826748395295703}. Best is trial 15 with value: -25.31776805736427.\u001b[0m\n",
      "\u001b[32m[I 2022-08-20 13:26:17,237]\u001b[0m Trial 16 finished with value: -45.87329453138695 and parameters: {'alpha': 0.6131641230612259}. Best is trial 15 with value: -25.31776805736427.\u001b[0m\n",
      "\u001b[32m[I 2022-08-20 13:26:17,250]\u001b[0m Trial 17 finished with value: -32.75580874974909 and parameters: {'alpha': 0.25863751003936564}. Best is trial 15 with value: -25.31776805736427.\u001b[0m\n",
      "\u001b[32m[I 2022-08-20 13:26:17,263]\u001b[0m Trial 18 finished with value: -29.530373176015978 and parameters: {'alpha': 0.14670046212263627}. Best is trial 15 with value: -25.31776805736427.\u001b[0m\n",
      "\u001b[32m[I 2022-08-20 13:26:17,273]\u001b[0m Trial 19 finished with value: -25.277127688400498 and parameters: {'alpha': 0.0021689447869071557}. Best is trial 19 with value: -25.277127688400498.\u001b[0m\n",
      "\u001b[32m[I 2022-08-20 13:26:17,284]\u001b[0m Trial 20 finished with value: -36.67395127264389 and parameters: {'alpha': 0.3641732657086746}. Best is trial 19 with value: -25.277127688400498.\u001b[0m\n",
      "\u001b[32m[I 2022-08-20 13:26:17,296]\u001b[0m Trial 21 finished with value: -25.458490164735963 and parameters: {'alpha': 0.004857812333066609}. Best is trial 19 with value: -25.277127688400498.\u001b[0m\n",
      "\u001b[32m[I 2022-08-20 13:26:17,306]\u001b[0m Trial 22 finished with value: -28.586354512044835 and parameters: {'alpha': 0.10092673789068965}. Best is trial 19 with value: -25.277127688400498.\u001b[0m\n",
      "\u001b[32m[I 2022-08-20 13:26:17,319]\u001b[0m Trial 23 finished with value: -31.354572474215512 and parameters: {'alpha': 0.21424389705681363}. Best is trial 19 with value: -25.277127688400498.\u001b[0m\n",
      "\u001b[32m[I 2022-08-20 13:26:17,331]\u001b[0m Trial 24 finished with value: -28.4637592435373 and parameters: {'alpha': 0.09629866726078706}. Best is trial 19 with value: -25.277127688400498.\u001b[0m\n",
      "\u001b[32m[I 2022-08-20 13:26:17,341]\u001b[0m Trial 25 finished with value: -26.163617493689276 and parameters: {'alpha': 0.022498565965305705}. Best is trial 19 with value: -25.277127688400498.\u001b[0m\n",
      "\u001b[32m[I 2022-08-20 13:26:17,353]\u001b[0m Trial 26 finished with value: -35.55968105568643 and parameters: {'alpha': 0.3367286567065664}. Best is trial 19 with value: -25.277127688400498.\u001b[0m\n",
      "\u001b[32m[I 2022-08-20 13:26:17,366]\u001b[0m Trial 27 finished with value: -31.02662098366111 and parameters: {'alpha': 0.2035924828729424}. Best is trial 19 with value: -25.277127688400498.\u001b[0m\n",
      "\u001b[32m[I 2022-08-20 13:26:17,379]\u001b[0m Trial 28 finished with value: -43.88307121444451 and parameters: {'alpha': 0.5556979576019361}. Best is trial 19 with value: -25.277127688400498.\u001b[0m\n",
      "\u001b[32m[I 2022-08-20 13:26:17,388]\u001b[0m Trial 29 finished with value: -50.599918610453656 and parameters: {'alpha': 0.7479719245451465}. Best is trial 19 with value: -25.277127688400498.\u001b[0m\n",
      "\u001b[32m[I 2022-08-20 13:26:17,401]\u001b[0m Trial 30 finished with value: -28.407675657793636 and parameters: {'alpha': 0.09420009787380826}. Best is trial 19 with value: -25.277127688400498.\u001b[0m\n",
      "\u001b[32m[I 2022-08-20 13:26:17,414]\u001b[0m Trial 31 finished with value: -25.262008496320696 and parameters: {'alpha': 0.0019091617458760846}. Best is trial 31 with value: -25.262008496320696.\u001b[0m\n",
      "\u001b[32m[I 2022-08-20 13:26:17,423]\u001b[0m Trial 32 finished with value: -27.773602684959165 and parameters: {'alpha': 0.06649214447362482}. Best is trial 31 with value: -25.262008496320696.\u001b[0m\n",
      "\u001b[32m[I 2022-08-20 13:26:17,437]\u001b[0m Trial 33 finished with value: -25.225478881362 and parameters: {'alpha': 0.00124422771171874}. Best is trial 33 with value: -25.225478881362.\u001b[0m\n",
      "\u001b[32m[I 2022-08-20 13:26:17,451]\u001b[0m Trial 34 finished with value: -30.108000322245204 and parameters: {'alpha': 0.17112434176230157}. Best is trial 33 with value: -25.225478881362.\u001b[0m\n",
      "\u001b[32m[I 2022-08-20 13:26:17,460]\u001b[0m Trial 35 finished with value: -29.351926549747777 and parameters: {'alpha': 0.13780059078110102}. Best is trial 33 with value: -25.225478881362.\u001b[0m\n",
      "\u001b[32m[I 2022-08-20 13:26:17,472]\u001b[0m Trial 36 finished with value: -31.42128571879827 and parameters: {'alpha': 0.2165948209501421}. Best is trial 33 with value: -25.225478881362.\u001b[0m\n",
      "\u001b[32m[I 2022-08-20 13:26:17,486]\u001b[0m Trial 37 finished with value: -28.24790172913233 and parameters: {'alpha': 0.08882134591551062}. Best is trial 33 with value: -25.225478881362.\u001b[0m\n",
      "\u001b[32m[I 2022-08-20 13:26:17,498]\u001b[0m Trial 38 finished with value: -39.91487587441303 and parameters: {'alpha': 0.43944454723052484}. Best is trial 33 with value: -25.225478881362.\u001b[0m\n",
      "\u001b[32m[I 2022-08-20 13:26:17,507]\u001b[0m Trial 39 finished with value: -48.89913360494605 and parameters: {'alpha': 0.7011416754970907}. Best is trial 33 with value: -25.225478881362.\u001b[0m\n",
      "\u001b[32m[I 2022-08-20 13:26:17,519]\u001b[0m Trial 40 finished with value: -57.84782860420544 and parameters: {'alpha': 0.9223760594344446}. Best is trial 33 with value: -25.225478881362.\u001b[0m\n",
      "\u001b[32m[I 2022-08-20 13:26:17,533]\u001b[0m Trial 41 finished with value: -27.352405490291783 and parameters: {'alpha': 0.049912000345104596}. Best is trial 33 with value: -25.225478881362.\u001b[0m\n",
      "\u001b[32m[I 2022-08-20 13:26:17,544]\u001b[0m Trial 42 finished with value: -25.24530732433717 and parameters: {'alpha': 0.0016138759654541735}. Best is trial 33 with value: -25.225478881362.\u001b[0m\n",
      "\u001b[32m[I 2022-08-20 13:26:17,556]\u001b[0m Trial 43 finished with value: -25.683742582456205 and parameters: {'alpha': 0.007526662322072312}. Best is trial 33 with value: -25.225478881362.\u001b[0m\n"
     ]
    },
    {
     "name": "stderr",
     "output_type": "stream",
     "text": [
      "\u001b[32m[I 2022-08-20 13:26:17,569]\u001b[0m Trial 44 finished with value: -29.021623638254987 and parameters: {'alpha': 0.12024441415850544}. Best is trial 33 with value: -25.225478881362.\u001b[0m\n",
      "\u001b[32m[I 2022-08-20 13:26:17,582]\u001b[0m Trial 45 finished with value: -27.747984875296716 and parameters: {'alpha': 0.06422930456651912}. Best is trial 33 with value: -25.225478881362.\u001b[0m\n",
      "\u001b[32m[I 2022-08-20 13:26:17,594]\u001b[0m Trial 46 finished with value: -30.046880290341903 and parameters: {'alpha': 0.16872484552439654}. Best is trial 33 with value: -25.225478881362.\u001b[0m\n",
      "\u001b[32m[I 2022-08-20 13:26:17,604]\u001b[0m Trial 47 finished with value: -27.562433875630013 and parameters: {'alpha': 0.05721975874281305}. Best is trial 33 with value: -25.225478881362.\u001b[0m\n",
      "\u001b[32m[I 2022-08-20 13:26:17,617]\u001b[0m Trial 48 finished with value: -25.58943875231359 and parameters: {'alpha': 0.006457278844699902}. Best is trial 33 with value: -25.225478881362.\u001b[0m\n",
      "\u001b[32m[I 2022-08-20 13:26:17,628]\u001b[0m Trial 49 finished with value: -29.11473229111894 and parameters: {'alpha': 0.12551953452030917}. Best is trial 33 with value: -25.225478881362.\u001b[0m\n",
      "\u001b[32m[I 2022-08-20 13:26:17,638]\u001b[0m Trial 50 finished with value: -32.25444666391391 and parameters: {'alpha': 0.2438069909194054}. Best is trial 33 with value: -25.225478881362.\u001b[0m\n",
      "\u001b[32m[I 2022-08-20 13:26:17,650]\u001b[0m Trial 51 finished with value: -25.1763728760547 and parameters: {'alpha': 0.00024040565084949318}. Best is trial 51 with value: -25.1763728760547.\u001b[0m\n",
      "\u001b[32m[I 2022-08-20 13:26:17,664]\u001b[0m Trial 52 finished with value: -27.338702846869474 and parameters: {'alpha': 0.04956885906851041}. Best is trial 51 with value: -25.1763728760547.\u001b[0m\n",
      "\u001b[32m[I 2022-08-20 13:26:17,675]\u001b[0m Trial 53 finished with value: -25.198117135576563 and parameters: {'alpha': 0.0007031276706588318}. Best is trial 51 with value: -25.1763728760547.\u001b[0m\n",
      "\u001b[32m[I 2022-08-20 13:26:17,686]\u001b[0m Trial 54 finished with value: -28.209283945485083 and parameters: {'alpha': 0.08743396056635354}. Best is trial 51 with value: -25.1763728760547.\u001b[0m\n",
      "\u001b[32m[I 2022-08-20 13:26:17,698]\u001b[0m Trial 55 finished with value: -27.389516154247524 and parameters: {'alpha': 0.05080319509967745}. Best is trial 51 with value: -25.1763728760547.\u001b[0m\n",
      "\u001b[32m[I 2022-08-20 13:26:17,710]\u001b[0m Trial 56 finished with value: -29.49627906896152 and parameters: {'alpha': 0.14509068594665192}. Best is trial 51 with value: -25.1763728760547.\u001b[0m\n",
      "\u001b[32m[I 2022-08-20 13:26:17,720]\u001b[0m Trial 57 finished with value: -26.599772257658493 and parameters: {'alpha': 0.03255130267580085}. Best is trial 51 with value: -25.1763728760547.\u001b[0m\n",
      "\u001b[32m[I 2022-08-20 13:26:17,731]\u001b[0m Trial 58 finished with value: -34.43301265500291 and parameters: {'alpha': 0.3063087953925777}. Best is trial 51 with value: -25.1763728760547.\u001b[0m\n",
      "\u001b[32m[I 2022-08-20 13:26:17,740]\u001b[0m Trial 59 finished with value: -27.97870219672974 and parameters: {'alpha': 0.07779314533910289}. Best is trial 51 with value: -25.1763728760547.\u001b[0m\n",
      "\u001b[32m[I 2022-08-20 13:26:17,751]\u001b[0m Trial 60 finished with value: -26.610180331865127 and parameters: {'alpha': 0.03275770553247099}. Best is trial 51 with value: -25.1763728760547.\u001b[0m\n",
      "\u001b[32m[I 2022-08-20 13:26:17,767]\u001b[0m Trial 61 finished with value: -25.23486994552162 and parameters: {'alpha': 0.0014208783493625792}. Best is trial 51 with value: -25.1763728760547.\u001b[0m\n",
      "\u001b[32m[I 2022-08-20 13:26:17,779]\u001b[0m Trial 62 finished with value: -25.72675257663215 and parameters: {'alpha': 0.007997378721954829}. Best is trial 51 with value: -25.1763728760547.\u001b[0m\n",
      "\u001b[32m[I 2022-08-20 13:26:17,788]\u001b[0m Trial 63 finished with value: -25.22207711661004 and parameters: {'alpha': 0.0011798357001060761}. Best is trial 51 with value: -25.1763728760547.\u001b[0m\n",
      "\u001b[32m[I 2022-08-20 13:26:17,800]\u001b[0m Trial 64 finished with value: -29.047137663365646 and parameters: {'alpha': 0.12172650182863283}. Best is trial 51 with value: -25.1763728760547.\u001b[0m\n",
      "\u001b[32m[I 2022-08-20 13:26:17,813]\u001b[0m Trial 65 finished with value: -26.75820976212783 and parameters: {'alpha': 0.036399245162932546}. Best is trial 51 with value: -25.1763728760547.\u001b[0m\n",
      "\u001b[32m[I 2022-08-20 13:26:17,822]\u001b[0m Trial 66 finished with value: -30.68851698543232 and parameters: {'alpha': 0.19231666010424944}. Best is trial 51 with value: -25.1763728760547.\u001b[0m\n",
      "\u001b[32m[I 2022-08-20 13:26:17,835]\u001b[0m Trial 67 finished with value: -27.917929289077545 and parameters: {'alpha': 0.0748086538630483}. Best is trial 51 with value: -25.1763728760547.\u001b[0m\n",
      "\u001b[32m[I 2022-08-20 13:26:17,847]\u001b[0m Trial 68 finished with value: -28.805654332745327 and parameters: {'alpha': 0.10928564633225155}. Best is trial 51 with value: -25.1763728760547.\u001b[0m\n",
      "\u001b[32m[I 2022-08-20 13:26:17,857]\u001b[0m Trial 69 finished with value: -26.691911333945633 and parameters: {'alpha': 0.03467769087502749}. Best is trial 51 with value: -25.1763728760547.\u001b[0m\n",
      "\u001b[32m[I 2022-08-20 13:26:17,870]\u001b[0m Trial 70 finished with value: -25.250387936747305 and parameters: {'alpha': 0.0017046126232333778}. Best is trial 51 with value: -25.1763728760547.\u001b[0m\n",
      "\u001b[32m[I 2022-08-20 13:26:17,886]\u001b[0m Trial 71 finished with value: -26.187563889032646 and parameters: {'alpha': 0.02309341505461374}. Best is trial 51 with value: -25.1763728760547.\u001b[0m\n",
      "\u001b[32m[I 2022-08-20 13:26:17,902]\u001b[0m Trial 72 finished with value: -25.174995634423503 and parameters: {'alpha': 0.00020968512252029147}. Best is trial 72 with value: -25.174995634423503.\u001b[0m\n",
      "\u001b[32m[I 2022-08-20 13:26:17,918]\u001b[0m Trial 73 finished with value: -28.198952778612515 and parameters: {'alpha': 0.0870564949063676}. Best is trial 72 with value: -25.174995634423503.\u001b[0m\n",
      "\u001b[32m[I 2022-08-20 13:26:17,933]\u001b[0m Trial 74 finished with value: -25.20997995259917 and parameters: {'alpha': 0.0009429599747832765}. Best is trial 72 with value: -25.174995634423503.\u001b[0m\n",
      "\u001b[32m[I 2022-08-20 13:26:17,947]\u001b[0m Trial 75 finished with value: -29.685351853352397 and parameters: {'alpha': 0.15367962415289385}. Best is trial 72 with value: -25.174995634423503.\u001b[0m\n",
      "\u001b[32m[I 2022-08-20 13:26:17,957]\u001b[0m Trial 76 finished with value: -27.63764345388957 and parameters: {'alpha': 0.05979476415844598}. Best is trial 72 with value: -25.174995634423503.\u001b[0m\n",
      "\u001b[32m[I 2022-08-20 13:26:17,970]\u001b[0m Trial 77 finished with value: -26.613041377801274 and parameters: {'alpha': 0.03281423615124632}. Best is trial 72 with value: -25.174995634423503.\u001b[0m\n",
      "\u001b[32m[I 2022-08-20 13:26:17,985]\u001b[0m Trial 78 finished with value: -28.851573298609857 and parameters: {'alpha': 0.11108130847210479}. Best is trial 72 with value: -25.174995634423503.\u001b[0m\n",
      "\u001b[32m[I 2022-08-20 13:26:17,999]\u001b[0m Trial 79 finished with value: -56.13283256435502 and parameters: {'alpha': 0.8841850489188561}. Best is trial 72 with value: -25.174995634423503.\u001b[0m\n",
      "\u001b[32m[I 2022-08-20 13:26:18,012]\u001b[0m Trial 80 finished with value: -38.54480287176842 and parameters: {'alpha': 0.40699474456465634}. Best is trial 72 with value: -25.174995634423503.\u001b[0m\n",
      "\u001b[32m[I 2022-08-20 13:26:18,024]\u001b[0m Trial 81 finished with value: -25.478683542511625 and parameters: {'alpha': 0.005119139885921839}. Best is trial 72 with value: -25.174995634423503.\u001b[0m\n",
      "\u001b[32m[I 2022-08-20 13:26:18,036]\u001b[0m Trial 82 finished with value: -27.829384319275484 and parameters: {'alpha': 0.070244777111158}. Best is trial 72 with value: -25.174995634423503.\u001b[0m\n",
      "\u001b[32m[I 2022-08-20 13:26:18,050]\u001b[0m Trial 83 finished with value: -26.4624304107861 and parameters: {'alpha': 0.029699035852483322}. Best is trial 72 with value: -25.174995634423503.\u001b[0m\n",
      "\u001b[32m[I 2022-08-20 13:26:18,062]\u001b[0m Trial 84 finished with value: -25.330707079844764 and parameters: {'alpha': 0.0030266697346080684}. Best is trial 72 with value: -25.174995634423503.\u001b[0m\n",
      "\u001b[32m[I 2022-08-20 13:26:18,072]\u001b[0m Trial 85 finished with value: -42.55607380346298 and parameters: {'alpha': 0.5182720792472896}. Best is trial 72 with value: -25.174995634423503.\u001b[0m\n",
      "\u001b[32m[I 2022-08-20 13:26:18,086]\u001b[0m Trial 86 finished with value: -27.517048330923085 and parameters: {'alpha': 0.05556352707254686}. Best is trial 72 with value: -25.174995634423503.\u001b[0m\n",
      "\u001b[32m[I 2022-08-20 13:26:18,100]\u001b[0m Trial 87 finished with value: -28.44526818172351 and parameters: {'alpha': 0.09561726455110998}. Best is trial 72 with value: -25.174995634423503.\u001b[0m\n"
     ]
    },
    {
     "name": "stderr",
     "output_type": "stream",
     "text": [
      "\u001b[32m[I 2022-08-20 13:26:18,112]\u001b[0m Trial 88 finished with value: -46.9904502363478 and parameters: {'alpha': 0.6459530706145706}. Best is trial 72 with value: -25.174995634423503.\u001b[0m\n",
      "\u001b[32m[I 2022-08-20 13:26:18,128]\u001b[0m Trial 89 finished with value: -26.19868779491598 and parameters: {'alpha': 0.023387474733104277}. Best is trial 72 with value: -25.174995634423503.\u001b[0m\n",
      "\u001b[32m[I 2022-08-20 13:26:18,138]\u001b[0m Trial 90 finished with value: -27.83355669757999 and parameters: {'alpha': 0.07046867420614711}. Best is trial 72 with value: -25.174995634423503.\u001b[0m\n",
      "\u001b[32m[I 2022-08-20 13:26:18,152]\u001b[0m Trial 91 finished with value: -25.27823305089376 and parameters: {'alpha': 0.0021876610061666987}. Best is trial 72 with value: -25.174995634423503.\u001b[0m\n",
      "\u001b[32m[I 2022-08-20 13:26:18,164]\u001b[0m Trial 92 finished with value: -27.429817373593313 and parameters: {'alpha': 0.05217279199884539}. Best is trial 72 with value: -25.174995634423503.\u001b[0m\n",
      "\u001b[32m[I 2022-08-20 13:26:18,175]\u001b[0m Trial 93 finished with value: -25.24479742230519 and parameters: {'alpha': 0.0016045882193636805}. Best is trial 72 with value: -25.174995634423503.\u001b[0m\n",
      "\u001b[32m[I 2022-08-20 13:26:18,186]\u001b[0m Trial 94 finished with value: -26.19873375785797 and parameters: {'alpha': 0.023388676915078687}. Best is trial 72 with value: -25.174995634423503.\u001b[0m\n",
      "\u001b[32m[I 2022-08-20 13:26:18,198]\u001b[0m Trial 95 finished with value: -27.074845409974948 and parameters: {'alpha': 0.04396345233230381}. Best is trial 72 with value: -25.174995634423503.\u001b[0m\n",
      "\u001b[32m[I 2022-08-20 13:26:18,209]\u001b[0m Trial 96 finished with value: -28.56321926705175 and parameters: {'alpha': 0.0999749655876348}. Best is trial 72 with value: -25.174995634423503.\u001b[0m\n",
      "\u001b[32m[I 2022-08-20 13:26:18,220]\u001b[0m Trial 97 finished with value: -29.1916150436343 and parameters: {'alpha': 0.12962411197901608}. Best is trial 72 with value: -25.174995634423503.\u001b[0m\n",
      "\u001b[32m[I 2022-08-20 13:26:18,235]\u001b[0m Trial 98 finished with value: -25.241863471716727 and parameters: {'alpha': 0.0015509221019678048}. Best is trial 72 with value: -25.174995634423503.\u001b[0m\n",
      "\u001b[32m[I 2022-08-20 13:26:18,250]\u001b[0m Trial 99 finished with value: -28.063444436005597 and parameters: {'alpha': 0.08161496360702432}. Best is trial 72 with value: -25.174995634423503.\u001b[0m\n"
     ]
    },
    {
     "name": "stdout",
     "output_type": "stream",
     "text": [
      "Best score: -25.174995634423503\n",
      "\n",
      "Optimized parameters: {'alpha': 0.00020968512252029147}\n",
      "\n"
     ]
    }
   ],
   "source": [
    "from sklearn.model_selection import KFold, cross_val_score\n",
    "import optuna\n",
    "from sklearn.linear_model import Lasso\n",
    "\n",
    "import warnings\n",
    "warnings.filterwarnings('ignore')\n",
    "\n",
    "# prepare the data\n",
    "boston = load_boston()\n",
    "X = pd.DataFrame(boston.data, columns=boston.feature_names)\n",
    "y = boston.target\n",
    "\n",
    "X_train, X_test, y_train, y_test = train_test_split(X, y, test_size=0.25, random_state=12)\n",
    "RANDOM_SEED = 42\n",
    "\n",
    "#normalize train and then test data\n",
    "from sklearn.preprocessing import MinMaxScaler\n",
    "scaler = MinMaxScaler()\n",
    "X_train = scaler.fit_transform(X_train)\n",
    "X_test = scaler.fit(X_test)\n",
    "\n",
    "\n",
    "def tune(objective):\n",
    "    study = optuna.create_study(direction=\"maximize\")\n",
    "    study.optimize(objective, n_trials=100)\n",
    "\n",
    "    params = study.best_params\n",
    "    best_score = study.best_value\n",
    "    print(f\"Best score: {best_score}\\n\")\n",
    "    print(f\"Optimized parameters: {params}\\n\")\n",
    "    return params\n",
    "\n",
    "# Lasso\n",
    "##################\n",
    "\n",
    "def lasso_objective(trial):\n",
    "    \n",
    "    # 5-fold CV\n",
    "    kfolds = KFold(n_splits=5, shuffle=True, random_state=RANDOM_SEED)# Define the helper function so that it can be reused\n",
    "\n",
    "    _alpha = trial.suggest_float(\"alpha\", 0.0001, 1)\n",
    "    lasso = Lasso(alpha=_alpha, random_state=RANDOM_SEED)\n",
    "    scores = cross_val_score(\n",
    "        lasso, X_train, y_train, cv=kfolds,\n",
    "        scoring=\"neg_mean_squared_error\"\n",
    "    )\n",
    "    return scores.mean()\n",
    "\n",
    "lasso_params = tune(lasso_objective)\n",
    "\n",
    "# lasso_params = {'alpha': 0.00041398687418613947}\n",
    "\n",
    "lasso = Lasso(**lasso_params, random_state=RANDOM_SEED)##################\n"
   ]
  },
  {
   "cell_type": "code",
   "execution_count": 9,
   "metadata": {},
   "outputs": [
    {
     "data": {
      "text/plain": [
       "{'alpha': 0.10171202229311352}"
      ]
     },
     "execution_count": 9,
     "metadata": {},
     "output_type": "execute_result"
    }
   ],
   "source": [
    "ridge_params"
   ]
  },
  {
   "cell_type": "code",
   "execution_count": 15,
   "metadata": {},
   "outputs": [
    {
     "data": {
      "text/plain": [
       "(442, 10)"
      ]
     },
     "execution_count": 15,
     "metadata": {},
     "output_type": "execute_result"
    }
   ],
   "source": [
    "X, y = datasets.load_diabetes(return_X_y=True)\n",
    "X.shape"
   ]
  },
  {
   "cell_type": "markdown",
   "metadata": {},
   "source": [
    "## RandomForestRegressor"
   ]
  },
  {
   "cell_type": "code",
   "execution_count": 12,
   "metadata": {},
   "outputs": [
    {
     "name": "stderr",
     "output_type": "stream",
     "text": [
      "\u001b[32m[I 2022-08-20 11:52:45,491]\u001b[0m A new study created in memory with name: no-name-98ad7a83-9bb5-4462-ac5a-3f55619e6dfa\u001b[0m\n",
      "\u001b[32m[I 2022-08-20 11:52:46,850]\u001b[0m Trial 0 finished with value: -12.56518409556209 and parameters: {'n_estimators': 141, 'max_depth': 7, 'min_samples_split': 9, 'min_samples_leaf': 3, 'max_features': 9}. Best is trial 0 with value: -12.56518409556209.\u001b[0m\n",
      "\u001b[32m[I 2022-08-20 11:52:48,208]\u001b[0m Trial 1 finished with value: -17.85278866042729 and parameters: {'n_estimators': 195, 'max_depth': 17, 'min_samples_split': 3, 'min_samples_leaf': 10, 'max_features': 5}. Best is trial 0 with value: -12.56518409556209.\u001b[0m\n",
      "\u001b[32m[I 2022-08-20 11:52:49,480]\u001b[0m Trial 2 finished with value: -15.187249478597938 and parameters: {'n_estimators': 128, 'max_depth': 13, 'min_samples_split': 9, 'min_samples_leaf': 7, 'max_features': 10}. Best is trial 0 with value: -12.56518409556209.\u001b[0m\n",
      "\u001b[32m[I 2022-08-20 11:52:50,585]\u001b[0m Trial 3 finished with value: -14.234116813352923 and parameters: {'n_estimators': 78, 'max_depth': 14, 'min_samples_split': 10, 'min_samples_leaf': 5, 'max_features': 6}. Best is trial 0 with value: -12.56518409556209.\u001b[0m\n",
      "\u001b[32m[I 2022-08-20 11:52:51,816]\u001b[0m Trial 4 finished with value: -16.803700734827554 and parameters: {'n_estimators': 126, 'max_depth': 13, 'min_samples_split': 8, 'min_samples_leaf': 10, 'max_features': 8}. Best is trial 0 with value: -12.56518409556209.\u001b[0m\n",
      "\u001b[32m[I 2022-08-20 11:52:53,150]\u001b[0m Trial 5 finished with value: -15.669228934101161 and parameters: {'n_estimators': 166, 'max_depth': 17, 'min_samples_split': 4, 'min_samples_leaf': 8, 'max_features': 10}. Best is trial 0 with value: -12.56518409556209.\u001b[0m\n",
      "\u001b[32m[I 2022-08-20 11:52:54,379]\u001b[0m Trial 6 finished with value: -11.942615343091369 and parameters: {'n_estimators': 101, 'max_depth': 20, 'min_samples_split': 2, 'min_samples_leaf': 3, 'max_features': 6}. Best is trial 6 with value: -11.942615343091369.\u001b[0m\n",
      "\u001b[32m[I 2022-08-20 11:52:55,488]\u001b[0m Trial 7 finished with value: -17.524064060329202 and parameters: {'n_estimators': 91, 'max_depth': 10, 'min_samples_split': 2, 'min_samples_leaf': 10, 'max_features': 6}. Best is trial 6 with value: -11.942615343091369.\u001b[0m\n",
      "\u001b[32m[I 2022-08-20 11:52:56,532]\u001b[0m Trial 8 finished with value: -14.018524208859887 and parameters: {'n_estimators': 70, 'max_depth': 11, 'min_samples_split': 7, 'min_samples_leaf': 5, 'max_features': 9}. Best is trial 6 with value: -11.942615343091369.\u001b[0m\n",
      "\u001b[32m[I 2022-08-20 11:52:57,726]\u001b[0m Trial 9 finished with value: -17.626560076719123 and parameters: {'n_estimators': 143, 'max_depth': 6, 'min_samples_split': 6, 'min_samples_leaf': 10, 'max_features': 5}. Best is trial 6 with value: -11.942615343091369.\u001b[0m\n"
     ]
    },
    {
     "name": "stdout",
     "output_type": "stream",
     "text": [
      "Best score: -11.942615343091369\n",
      "\n",
      "Optimized parameters: {'n_estimators': 101, 'max_depth': 20, 'min_samples_split': 2, 'min_samples_leaf': 3, 'max_features': 6}\n",
      "\n"
     ]
    }
   ],
   "source": [
    "from sklearn.model_selection import KFold, cross_val_score, train_test_split\n",
    "import optuna\n",
    "from sklearn.ensemble import RandomForestRegressor\n",
    "from sklearn.datasets import load_boston\n",
    "import numpy as np\n",
    "import warnings\n",
    "warnings.filterwarnings('ignore')\n",
    "\n",
    "c\n",
    "X_train, X_test, y_train, y_test = train_test_split(X, y, test_size=0.25, random_state=12)\n",
    "RANDOM_SEED = 42\n",
    "\n",
    "def tune(objective):\n",
    "    study = optuna.create_study(direction=\"maximize\")\n",
    "    study.optimize(objective, n_trials=10)\n",
    "\n",
    "    params = study.best_params\n",
    "    best_score = study.best_value\n",
    "    print(f\"Best score: {best_score}\\n\")\n",
    "    print(f\"Optimized parameters: {params}\\n\")\n",
    "    return params\n",
    "\n",
    "\n",
    "\n",
    "def randomforest_objective(trial):\n",
    "    \n",
    "    \n",
    "    # 5-fold CV\n",
    "    kfolds = KFold(n_splits=5, shuffle=True, random_state=RANDOM_SEED)# Define the helper function so that it can be reused\n",
    "\n",
    "    _n_estimators = trial.suggest_int(\"n_estimators\", 50, 200)\n",
    "    _max_depth = trial.suggest_int(\"max_depth\", 5, 20)\n",
    "    _min_samp_split = trial.suggest_int(\"min_samples_split\", 2, 10)\n",
    "    _min_samples_leaf = trial.suggest_int(\"min_samples_leaf\", 2, 10)\n",
    "    _max_features = trial.suggest_int(\"max_features\", 5, 10)\n",
    "\n",
    "    rf = RandomForestRegressor(\n",
    "        max_depth=_max_depth,\n",
    "        min_samples_split=_min_samp_split,\n",
    "        min_samples_leaf=_min_samples_leaf,\n",
    "        max_features=_max_features,\n",
    "        n_estimators=_n_estimators,\n",
    "        n_jobs=-1,\n",
    "        random_state=RANDOM_SEED,\n",
    "    )\n",
    "    \n",
    "    scores = cross_val_score(\n",
    "        rf, X_train, y_train, cv= kfolds, scoring=\"neg_mean_squared_error\"\n",
    "    )\n",
    "    return scores.mean()\n",
    "\n",
    "\n",
    "randomforest_params = tune(randomforest_objective)\n",
    "# randomforest_params = {'n_estimators': 180, 'max_depth': 18, 'min_samples_split': 2, 'min_samples_leaf': 2, 'max_features': 49}\n",
    "rf = RandomForestRegressor(n_jobs=-1, random_state=RANDOM_SEED, **randomforest_params)# So on with other models...\n",
    "rf.fit(X_train, y_train)"
   ]
  },
  {
   "cell_type": "code",
   "execution_count": 26,
   "metadata": {},
   "outputs": [
    {
     "data": {
      "image/png": "[encoded data removed]",
      "text/plain": [
       "<Figure size 432x288 with 1 Axes>"
      ]
     },
     "metadata": {
      "needs_background": "light"
     },
     "output_type": "display_data"
    }
   ],
   "source": [
    "import matplotlib.pyplot as plt\n",
    "\n",
    "importances = rf.feature_importances_\n",
    "sorted_indices = np.argsort(importances)[::-1]\n",
    "plt.title('Feature Importance')\n",
    "plt.bar(range(X_train.shape[1]), importances[sorted_indices], align='center')\n",
    "plt.xticks(range(X_train.shape[1]), X_train.columns[sorted_indices], rotation=90)\n",
    "plt.tight_layout()\n",
    "plt.show()"
   ]
  },
  {
   "cell_type": "code",
   "execution_count": null,
   "metadata": {},
   "outputs": [],
   "source": []
  }
 ],
 "metadata": {
  "kernelspec": {
   "display_name": "Python 3",
   "language": "python",
   "name": "python3"
  },
  "language_info": {
   "codemirror_mode": {
    "name": "ipython",
    "version": 3
   },
   "file_extension": ".py",
   "mimetype": "text/x-python",
   "name": "python",
   "nbconvert_exporter": "python",
   "pygments_lexer": "ipython3",
   "version": "3.7.4"
  }
 },
 "nbformat": 4,
 "nbformat_minor": 2
}
